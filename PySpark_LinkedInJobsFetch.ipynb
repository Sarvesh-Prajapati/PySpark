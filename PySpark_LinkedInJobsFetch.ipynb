{
  "nbformat": 4,
  "nbformat_minor": 0,
  "metadata": {
    "colab": {
      "provenance": []
    },
    "kernelspec": {
      "name": "python3",
      "display_name": "Python 3"
    },
    "language_info": {
      "name": "python"
    }
  },
  "cells": [
    {
      "cell_type": "markdown",
      "source": [
        "# **Fetch using PySpark**"
      ],
      "metadata": {
        "id": "fLTfT6V6oojA"
      }
    },
    {
      "cell_type": "code",
      "execution_count": null,
      "metadata": {
        "id": "wNxIjOEabwqo"
      },
      "outputs": [],
      "source": [
        "import requests\n",
        "import os\n",
        "import pandas as pd\n",
        "import pyspark\n",
        "from pyspark.sql import SparkSession\n",
        "from pyspark.sql.functions import *\n",
        "from bs4 import BeautifulSoup"
      ]
    },
    {
      "cell_type": "markdown",
      "source": [
        "**Hit a Google search for data analyst jobs, open the LinkedIn result in new tab, copy the URL and follow next steps:**"
      ],
      "metadata": {
        "id": "IHk_lwuGOXps"
      }
    },
    {
      "cell_type": "code",
      "source": [
        "job_url = \"https://www.linkedin.com/jobs/search?keywords=Data%20Analyst&location=&geoId=&trk=public_jobs_jobs-search-bar_search-submit&position=1&pageNum=0\"\n",
        "souped = requests.get(job_url)  # '.get()' returns HTML content in jumbled form\n",
        "job_html = BeautifulSoup(souped.content, \"html.parser\")  # formatting the HTML content\n",
        "\n",
        "# Creating empty list to record job details\n",
        "job_list, job_company, job_location, job_recency = [], [], [], []\n",
        "\n",
        "# Extracting job details from 'job_html'\n",
        "job_titles = job_html.find_all('h3', {'class' : 'base-search-card__title'}) # finding all <H3> html tags of specified class\n",
        "company_name = job_html.find_all('h4', {'class' : 'base-search-card__subtitle'})\n",
        "location = job_html.find_all('span', {'class' : 'job-search-card__location'})\n",
        "recency1 = job_html.find_all('time', {'class' : 'job-search-card__listdate--new'})\n",
        "recency2 = job_html.find_all('time', {'class' : 'job-search-card__listdate'})\n",
        "\n",
        "# Populating the empty lists created above\n",
        "for i in job_titles: job_list.append(i.getText().strip()) # 'getText()' returns text content of <H3> tag; 'strip()' crops leading/lagging spaces\n",
        "for i in company_name: job_company.append(i.getText().strip())\n",
        "for i in location: job_location.append(i.getText().strip())\n",
        "for i in recency1: job_recency.append(i.getText().strip())\n",
        "for i in recency2: job_recency.append(i.getText().strip())\n"
      ],
      "metadata": {
        "id": "hdAYixYqeHCi"
      },
      "execution_count": null,
      "outputs": []
    },
    {
      "cell_type": "code",
      "source": [
        "# Create a spark session\n",
        "\n",
        "spark = SparkSession.builder.appName('LinkedInJobFetch').getOrCreate()"
      ],
      "metadata": {
        "id": "9Q5BnUlAeaQP"
      },
      "execution_count": null,
      "outputs": []
    },
    {
      "cell_type": "code",
      "source": [
        "data = {'Job_Title' : job_list,\n",
        "        'Company' : job_company,\n",
        "        'Location' : job_location,\n",
        "        'Job_Recency' : job_recency }\n",
        "\n",
        "col_headings = list(data.keys())    # This will be used later to assign col head\n",
        "\n",
        "spark_data = list(zip(*data.values()))\n",
        "spark_df = spark.createDataFrame(spark_data)  # Creating Spark dataframe\n",
        "\n",
        "# spark_df.show(n = spark_df.count(), truncate=False)\n",
        "\n",
        "csv_path = '/content/spark_linkedin_jobs'  # Saving file in Colab's local storage in a dedicated folder\n",
        "\n",
        "if os.path.exists(csv_path):   # If path exists\n",
        "    spark_df.write.csv(csv_path, mode = \"append\", header = False)\n",
        "    print(f\"Data APPENDED to {csv_path}\")\n",
        "else:\n",
        "    spark_df.write.csv(csv_path, mode = \"overwrite\", header = False)\n",
        "    print(f\"Data SAVED to {csv_path}\")  # Printed ONLY ON FIRST RUN of this cell; next run onward, 'print' in above 'if' runs\n"
      ],
      "metadata": {
        "colab": {
          "base_uri": "https://localhost:8080/"
        },
        "id": "Ii2xZ4C7GWAu",
        "outputId": "36b580ef-8746-4611-c555-8a1305bdd15e"
      },
      "execution_count": null,
      "outputs": [
        {
          "output_type": "stream",
          "name": "stdout",
          "text": [
            "Data SAVED to /content/spark_linkedin_jobs\n"
          ]
        }
      ]
    },
    {
      "cell_type": "markdown",
      "source": [
        "**By default, Spark saves CSV as multiple partitions in the specified folder, e.g.**\n",
        "\n",
        "```\n",
        "spark_linkedin_jobs/\n",
        "├── part-00000-xxxx.csv\n",
        "├── part-00001-xxxx.csv\n",
        "├── _SUCCESS\n",
        "\n",
        "```\n",
        "\n",
        "**If only a single file is wanted as output, then change the** ``` spark_df.write.csv``` **to** ```spark_df.coalesce(1).write.csv```.\n"
      ],
      "metadata": {
        "id": "8vNALUbOuLIK"
      }
    },
    {
      "cell_type": "code",
      "source": [
        "from pyspark.sql.types import StructType, StructField, StringType\n",
        "\n",
        "# Define column headers' schema\n",
        "col_schema = StructType([\n",
        "    StructField(col_headings[0], StringType(), True),\n",
        "    StructField(col_headings[1], StringType(), True),\n",
        "    StructField(col_headings[2], StringType(), True),\n",
        "    StructField(col_headings[3], StringType(), True) ])\n",
        "\n",
        "# Reading the content of 'spark_linkedin_jobs.csv'\n",
        "r = spark.read.csv('/content/spark_linkedin_jobs', schema = col_schema, multiLine = True)\n",
        "\n",
        "r.dropDuplicates() # Remove duplicate rows\n",
        "\n",
        "r.show(n = r.count(), truncate=False)  # 'r.count()' returns the total no. of rows\n"
      ],
      "metadata": {
        "colab": {
          "base_uri": "https://localhost:8080/"
        },
        "id": "7YEV3sz7MGJi",
        "outputId": "55cde64e-12db-4dc8-b344-311e97ff2a38"
      },
      "execution_count": null,
      "outputs": [
        {
          "output_type": "stream",
          "name": "stdout",
          "text": [
            "+-------------------------------------------+--------------------------------------+-------------------------------+------------+\n",
            "|Job_Title                                  |Company                               |Location                       |Job_Recency |\n",
            "+-------------------------------------------+--------------------------------------+-------------------------------+------------+\n",
            "|Data Analyst, Finance & Strategy, MarComms |Netflix                               |Los Angeles, CA                |17 hours ago|\n",
            "|Data Analyst                               |KFC                                   |Plano, TX                      |8 hours ago |\n",
            "|Analyst, Insights & Analytics              |LoopMe                                |New York, NY                   |19 hours ago|\n",
            "|Data Analyst                               |CULT GAIA                             |Los Angeles Metropolitan Area  |1 week ago  |\n",
            "|Data Analyst                               |Zest AI                               |Burbank, CA                    |4 days ago  |\n",
            "|Data Analyst                               |Cloudflare                            |Austin, TX                     |2 weeks ago |\n",
            "|Data Analyst                               |Kforce Inc                            |New York, NY                   |3 days ago  |\n",
            "|Data Analyst, Pricing                      |Lyft                                  |Seattle, WA                    |1 week ago  |\n",
            "|Data Analyst                               |Upstart                               |United States                  |1 week ago  |\n",
            "|Data Analyst                               |Birlasoft                             |Charlotte, NC                  |1 week ago  |\n",
            "|Data Analyst                               |Cloudflare                            |Dallas, TX                     |1 week ago  |\n",
            "|Analyst, Analytics                         |Toyota North America                  |Plano, TX                      |1 week ago  |\n",
            "|Data Analyst                               |Memorial Sloan Kettering Cancer Center|New York, NY                   |2 weeks ago |\n",
            "|Sales Data Analyst                         |Morgan Stanley                        |Boston, MA                     |1 week ago  |\n",
            "|Data Analyst Intern 2025                   |Voloridge Investment Management, LLC  |Jupiter, FL                    |5 days ago  |\n",
            "|Data Analyst                               |Cloudflare                            |Houston, TX                    |2 weeks ago |\n",
            "|Data Analyst                               |Radiant Digital                       |Brooklyn, NY                   |2 weeks ago |\n",
            "|Data Analyst                               |Synapticure                           |Chicago, IL                    |1 week ago  |\n",
            "|Data Analyst I                             |Protingent                            |Charlotte, NC                  |4 weeks ago |\n",
            "|Data Analyst                               |Healthcasts Media                     |New York City Metropolitan Area|6 days ago  |\n",
            "|Data Analyst - Power BI, SQL, & Python     |Insight Global                        |Charlotte Metro                |6 days ago  |\n",
            "|Data Analyst                               |QSC                                   |United States                  |1 week ago  |\n",
            "|Junior Data Analyst (contingent)           |ARETUM                                |Washington, DC                 |1 week ago  |\n",
            "|Data Analyst                               |Cloudflare                            |San Antonio, TX                |3 days ago  |\n",
            "|Senior Data Analyst (NY Hybrid)            |Experian                              |New York, NY                   |1 week ago  |\n",
            "|Data Analyst  (251934)                     |Eastridge Workforce Solutions         |New York, NY                   |1 week ago  |\n",
            "|Business Data Analyst                      |Mirion                                |Atlanta, GA                    |6 days ago  |\n",
            "|Data Analyst                               |Korn Ferry                            |California, United States      |1 week ago  |\n",
            "|Data Analyst                               |Advize                                |United States                  |4 days ago  |\n",
            "|Data Analyst                               |Korn Ferry                            |Washington DC-Baltimore Area   |2 weeks ago |\n",
            "|Data Analyst                               |Counterpart                           |United States                  |4 days ago  |\n",
            "|Data Analyst - (SQL / Looker - 100% Remote)|Optomi                                |New Jersey, United States      |1 week ago  |\n",
            "|Data Analyst                               |Cloud and Things                      |United States                  |1 week ago  |\n",
            "|Data Analyst                               |Medterra                              |United States                  |1 week ago  |\n",
            "|Data Analyst                               |Dexian                                |Tampa, FL                      |4 days ago  |\n",
            "|Data Analyst                               |Korn Ferry                            |Florida, United States         |1 week ago  |\n",
            "|Data Analyst                               |Tata Consultancy Services             |Irving, TX                     |4 days ago  |\n",
            "|Data Analyst                               |YunoJuno                              |United States                  |1 week ago  |\n",
            "|Data Analyst                               |Bamboo Insurance                      |United States                  |1 week ago  |\n",
            "|Data Analyst                               |Elder Research                        |Arlington, VA                  |6 days ago  |\n",
            "|Data Analyst                               |Korn Ferry                            |Georgia, United States         |1 week ago  |\n",
            "|Data Analyst - Marketing                   |FanDuel                               |New York, NY                   |4 days ago  |\n",
            "|Analyst II, Data and Insights              |Herbalife                             |Torrance, CA                   |3 days ago  |\n",
            "|Data Analyst                               |Korn Ferry                            |Virginia, United States        |1 week ago  |\n",
            "|Junior Data Analyst                        |Sesheng                               |United States                  |4 days ago  |\n",
            "|Data Analyst                               |Akkodis                               |United States                  |2 days ago  |\n",
            "|Business Data Analyst                      |Volt                                  |Sparks, NV                     |2 weeks ago |\n",
            "|Data Analyst                               |Numero Data                           |Herndon, VA                    |2 weeks ago |\n",
            "|Data Analyst                               |MGT                                   |Tinley Park, IL                |1 week ago  |\n",
            "|Data Analyst                               |PRI Global                            |United States                  |4 days ago  |\n",
            "|Senior Data Analyst                        |CyberCoders                           |Normal, IL                     |2 weeks ago |\n",
            "|Data Analyst                               |The Cypress Group                     |New York City Metropolitan Area|1 week ago  |\n",
            "|Data Analyst                               |IT Labs                               |United States                  |1 week ago  |\n",
            "|Data Analyst                               |Planet Interactive                    |San Francisco, CA              |1 week ago  |\n",
            "|Data Analyst                               |Korn Ferry                            |Delaware, United States        |4 days ago  |\n",
            "|Data Analysts                              |AutoRoboto                            |Mountain View, CA              |1 week ago  |\n",
            "|Data Analyst                               |Flexton Inc.                          |Cincinnati Metropolitan Area   |3 days ago  |\n",
            "|Data Analyst                               |Korn Ferry                            |Arkansas, United States        |4 days ago  |\n",
            "|Data Analyst                               |Korn Ferry                            |Connecticut, United States     |4 days ago  |\n",
            "|Data Analyst                               |Korn Ferry                            |Idaho, United States           |4 days ago  |\n",
            "+-------------------------------------------+--------------------------------------+-------------------------------+------------+\n",
            "\n"
          ]
        }
      ]
    },
    {
      "cell_type": "code",
      "source": [
        "r.count()"
      ],
      "metadata": {
        "colab": {
          "base_uri": "https://localhost:8080/"
        },
        "id": "SiZxIcnwH3fP",
        "outputId": "df92dc96-a429-4279-f670-feb5aa780729"
      },
      "execution_count": null,
      "outputs": [
        {
          "output_type": "execute_result",
          "data": {
            "text/plain": [
              "60"
            ]
          },
          "metadata": {},
          "execution_count": 6
        }
      ]
    },
    {
      "cell_type": "markdown",
      "source": [
        "**The first run is done (until the above cell). Now let us run the above code again to get next results of jobs and see what changes. We'll run all BUT the spark session creation cell above, again:**\n"
      ],
      "metadata": {
        "id": "bV9aY9FVLP1F"
      }
    },
    {
      "cell_type": "code",
      "source": [
        "job_url = \"https://www.linkedin.com/jobs/search?keywords=Data%20Analyst&location=&geoId=&trk=public_jobs_jobs-search-bar_search-submit&position=1&pageNum=0\"\n",
        "souped = requests.get(job_url)  # '.get()' returns HTML content in jumbled form\n",
        "job_html = BeautifulSoup(souped.content, \"html.parser\")  # formatting the HTML content\n",
        "\n",
        "# Creating empty list to record job details\n",
        "job_list, job_company, job_location, job_recency = [], [], [], []\n",
        "\n",
        "# Extracting job details from 'job_html'\n",
        "job_titles = job_html.find_all('h3', {'class' : 'base-search-card__title'}) # finding all <H3> html tags of specified class\n",
        "company_name = job_html.find_all('h4', {'class' : 'base-search-card__subtitle'})\n",
        "location = job_html.find_all('span', {'class' : 'job-search-card__location'})\n",
        "recency1 = job_html.find_all('time', {'class' : 'job-search-card__listdate--new'})\n",
        "recency2 = job_html.find_all('time', {'class' : 'job-search-card__listdate'})\n",
        "\n",
        "# Populating the empty lists created above\n",
        "for i in job_titles: job_list.append(i.getText().strip()) # 'getText()' returns text content of <H3> tag; 'strip()' crops leading/lagging spaces\n",
        "for i in company_name: job_company.append(i.getText().strip())\n",
        "for i in location: job_location.append(i.getText().strip())\n",
        "for i in recency1: job_recency.append(i.getText().strip())\n",
        "for i in recency2: job_recency.append(i.getText().strip())\n"
      ],
      "metadata": {
        "id": "ryBfFHEMLc2U"
      },
      "execution_count": null,
      "outputs": []
    },
    {
      "cell_type": "markdown",
      "source": [
        "**Pay attention to the next cell's run; note which** ```print``` **runs here (tally with that in first run above).**"
      ],
      "metadata": {
        "id": "56bWkYKnLxXB"
      }
    },
    {
      "cell_type": "code",
      "source": [
        "csv_path = '/content/spark_linkedin_jobs'  # Saving file in Colab's local storage in a dedicated folder\n",
        "\n",
        "data.clear() # Clearing any previous content of dictionary 'data'\n",
        "\n",
        "data = {'Job_Title' : job_list,\n",
        "        'Company' : job_company,\n",
        "        'Location' : job_location,\n",
        "        'Job_Recency' : job_recency }\n",
        "\n",
        "spark_data = list(zip(*data.values()))\n",
        "spark_df = spark.createDataFrame(spark_data)  # Creating Spark dataframe\n",
        "\n",
        "# spark_df.show(n = spark_df.count(), truncate=False)\n",
        "\n",
        "if os.path.exists(csv_path):   # If path exists\n",
        "    spark_df.write.csv(csv_path, mode = \"append\", header = False)\n",
        "    print(f\"Data APPENDED to {csv_path}\")  # Printed in o/p\n",
        "else:\n",
        "    spark_df.write.csv(csv_path, mode = \"overwrite\", header = False)\n",
        "    print(f\"Data SAVED to {csv_path}\")\n"
      ],
      "metadata": {
        "colab": {
          "base_uri": "https://localhost:8080/"
        },
        "id": "WROa5u3yLumi",
        "outputId": "6fb3394a-13ea-4b6e-a78e-a851d2a556ae"
      },
      "execution_count": null,
      "outputs": [
        {
          "output_type": "stream",
          "name": "stdout",
          "text": [
            "Data APPENDED to /content/spark_linkedin_jobs\n"
          ]
        }
      ]
    },
    {
      "cell_type": "markdown",
      "source": [
        "**Reading the content again:**"
      ],
      "metadata": {
        "id": "CezkJ82UMvNA"
      }
    },
    {
      "cell_type": "code",
      "source": [
        "from pyspark.sql.types import StructType, StructField, StringType, IntegerType\n",
        "\n",
        "# Define schema for columns\n",
        "col_schema = StructType([\n",
        "    StructField(col_headings[0], StringType(), True),\n",
        "    StructField(col_headings[1], StringType(), True),\n",
        "    StructField(col_headings[2], StringType(), True),\n",
        "    StructField(col_headings[3], StringType(), True)\n",
        "])\n",
        "\n",
        "# Reading the content of 'spark_linkedin_jobs'\n",
        "r = spark.read.csv('/content/spark_linkedin_jobs', schema = col_schema, multiLine = True)\n",
        "\n",
        "r.dropDuplicates()  # Remove duplicate rows\n",
        "\n",
        "r.show(n = r.count(), truncate=False)  # 'r.count()' returns the total no. of rows\n"
      ],
      "metadata": {
        "colab": {
          "base_uri": "https://localhost:8080/"
        },
        "id": "h3UBBNKGMqFG",
        "outputId": "ca0d4a39-dd70-44a2-ab1e-e3d90838dd8f"
      },
      "execution_count": null,
      "outputs": [
        {
          "output_type": "stream",
          "name": "stdout",
          "text": [
            "+-------------------------------------------+--------------------------------------+-------------------------------+------------+\n",
            "|Job_Title                                  |Company                               |Location                       |Job_Recency |\n",
            "+-------------------------------------------+--------------------------------------+-------------------------------+------------+\n",
            "|Data Analyst, Finance & Strategy, MarComms |Netflix                               |Los Angeles, CA                |17 hours ago|\n",
            "|Data Analyst                               |KFC                                   |Plano, TX                      |8 hours ago |\n",
            "|Analyst, Insights & Analytics              |LoopMe                                |New York, NY                   |19 hours ago|\n",
            "|Data Analyst                               |CULT GAIA                             |Los Angeles Metropolitan Area  |1 week ago  |\n",
            "|Data Analyst                               |Zest AI                               |Burbank, CA                    |4 days ago  |\n",
            "|Data Analyst                               |Cloudflare                            |Austin, TX                     |2 weeks ago |\n",
            "|Data Analyst                               |Kforce Inc                            |New York, NY                   |3 days ago  |\n",
            "|Data Analyst, Pricing                      |Lyft                                  |Seattle, WA                    |1 week ago  |\n",
            "|Data Analyst                               |Upstart                               |United States                  |1 week ago  |\n",
            "|Data Analyst                               |Birlasoft                             |Charlotte, NC                  |1 week ago  |\n",
            "|Data Analyst                               |Cloudflare                            |Dallas, TX                     |1 week ago  |\n",
            "|Analyst, Analytics                         |Toyota North America                  |Plano, TX                      |1 week ago  |\n",
            "|Data Analyst                               |Memorial Sloan Kettering Cancer Center|New York, NY                   |2 weeks ago |\n",
            "|Sales Data Analyst                         |Morgan Stanley                        |Boston, MA                     |1 week ago  |\n",
            "|Data Analyst Intern 2025                   |Voloridge Investment Management, LLC  |Jupiter, FL                    |5 days ago  |\n",
            "|Data Analyst                               |Cloudflare                            |Houston, TX                    |2 weeks ago |\n",
            "|Data Analyst                               |Radiant Digital                       |Brooklyn, NY                   |2 weeks ago |\n",
            "|Data Analyst                               |Synapticure                           |Chicago, IL                    |1 week ago  |\n",
            "|Data Analyst I                             |Protingent                            |Charlotte, NC                  |4 weeks ago |\n",
            "|Data Analyst                               |Healthcasts Media                     |New York City Metropolitan Area|6 days ago  |\n",
            "|Data Analyst - Power BI, SQL, & Python     |Insight Global                        |Charlotte Metro                |6 days ago  |\n",
            "|Data Analyst                               |QSC                                   |United States                  |1 week ago  |\n",
            "|Junior Data Analyst (contingent)           |ARETUM                                |Washington, DC                 |1 week ago  |\n",
            "|Data Analyst                               |Cloudflare                            |San Antonio, TX                |3 days ago  |\n",
            "|Senior Data Analyst (NY Hybrid)            |Experian                              |New York, NY                   |1 week ago  |\n",
            "|Data Analyst  (251934)                     |Eastridge Workforce Solutions         |New York, NY                   |1 week ago  |\n",
            "|Business Data Analyst                      |Mirion                                |Atlanta, GA                    |6 days ago  |\n",
            "|Data Analyst                               |Korn Ferry                            |California, United States      |1 week ago  |\n",
            "|Data Analyst                               |Advize                                |United States                  |4 days ago  |\n",
            "|Data Analyst                               |Korn Ferry                            |Washington DC-Baltimore Area   |2 weeks ago |\n",
            "|Data Analyst, Finance & Strategy, MarComms |Netflix                               |Los Angeles, CA                |17 hours ago|\n",
            "|Data Analyst II                            |The Hershey Company                   |Hershey, PA                    |8 hours ago |\n",
            "|Data Analyst                               |KFC                                   |Plano, TX                      |19 hours ago|\n",
            "|Data Analyst                               |CULT GAIA                             |Los Angeles Metropolitan Area  |1 week ago  |\n",
            "|Data Analyst                               |Zest AI                               |Burbank, CA                    |2 weeks ago |\n",
            "|Data Analyst                               |Cloudflare                            |Austin, TX                     |4 days ago  |\n",
            "|Data Analyst                               |Kforce Inc                            |New York, NY                   |3 days ago  |\n",
            "|Data Analyst, Pricing                      |Lyft                                  |Seattle, WA                    |1 week ago  |\n",
            "|Data Analyst                               |Upstart                               |United States                  |1 week ago  |\n",
            "|Data Analyst                               |Birlasoft                             |Charlotte, NC                  |1 week ago  |\n",
            "|Data Analyst                               |Cloudflare                            |Dallas, TX                     |1 week ago  |\n",
            "|Analyst, Analytics                         |Toyota North America                  |Plano, TX                      |1 week ago  |\n",
            "|Data Analyst                               |Memorial Sloan Kettering Cancer Center|New York, NY                   |2 weeks ago |\n",
            "|Sales Data Analyst                         |Morgan Stanley                        |Boston, MA                     |1 week ago  |\n",
            "|Data Analyst                               |Cloudflare                            |Houston, TX                    |5 days ago  |\n",
            "|Data Analyst                               |Radiant Digital                       |Brooklyn, NY                   |2 weeks ago |\n",
            "|Data Analyst                               |CoralTree Hospitality                 |Englewood, CO                  |1 week ago  |\n",
            "|Data Analyst                               |Synapticure                           |Chicago, IL                    |4 days ago  |\n",
            "|Data Analyst I                             |Protingent                            |Charlotte, NC                  |4 weeks ago |\n",
            "|Data Analyst                               |PrudentRx                             |Tampa, FL                      |6 days ago  |\n",
            "|Data Analyst                               |Healthcasts Media                     |New York City Metropolitan Area|1 month ago |\n",
            "|Data Analyst - Power BI, SQL, & Python     |Insight Global                        |Charlotte Metro                |6 days ago  |\n",
            "|Data Analyst                               |QSC                                   |United States                  |1 week ago  |\n",
            "|Junior Data Analyst (contingent)           |ARETUM                                |Washington, DC                 |1 week ago  |\n",
            "|Data Analyst                               |Cloudflare                            |San Antonio, TX                |3 days ago  |\n",
            "|Senior Data Analyst (NY Hybrid)            |Experian                              |New York, NY                   |1 week ago  |\n",
            "|Data Analyst  (251934)                     |Eastridge Workforce Solutions         |New York, NY                   |1 week ago  |\n",
            "|Business Data Analyst                      |Mirion                                |Atlanta, GA                    |6 days ago  |\n",
            "|Data Analyst                               |Korn Ferry                            |California, United States      |1 week ago  |\n",
            "|Data Analyst                               |Korn Ferry                            |Washington DC-Baltimore Area   |4 days ago  |\n",
            "|Data Analyst                               |Counterpart                           |United States                  |4 days ago  |\n",
            "|Data Analyst - (SQL / Looker - 100% Remote)|Optomi                                |New Jersey, United States      |1 week ago  |\n",
            "|Data Analyst                               |Cloud and Things                      |United States                  |1 week ago  |\n",
            "|Data Analyst                               |Medterra                              |United States                  |1 week ago  |\n",
            "|Data Analyst                               |Dexian                                |Tampa, FL                      |4 days ago  |\n",
            "|Data Analyst                               |Korn Ferry                            |Florida, United States         |1 week ago  |\n",
            "|Data Analyst                               |Tata Consultancy Services             |Irving, TX                     |4 days ago  |\n",
            "|Data Analyst                               |YunoJuno                              |United States                  |1 week ago  |\n",
            "|Data Analyst                               |Bamboo Insurance                      |United States                  |1 week ago  |\n",
            "|Data Analyst                               |Elder Research                        |Arlington, VA                  |6 days ago  |\n",
            "|Data Analyst                               |Korn Ferry                            |Georgia, United States         |1 week ago  |\n",
            "|Data Analyst - Marketing                   |FanDuel                               |New York, NY                   |4 days ago  |\n",
            "|Analyst II, Data and Insights              |Herbalife                             |Torrance, CA                   |4 days ago  |\n",
            "|Data Analyst                               |Korn Ferry                            |Virginia, United States        |1 week ago  |\n",
            "|Junior Data Analyst                        |Sesheng                               |United States                  |4 days ago  |\n",
            "|Business Data Analyst                      |Volt                                  |Sparks, NV                     |2 days ago  |\n",
            "|Data Analyst                               |Numero Data                           |Herndon, VA                    |2 weeks ago |\n",
            "|Data Analyst                               |MGT                                   |Tinley Park, IL                |1 week ago  |\n",
            "|Data Analyst                               |PRI Global                            |United States                  |4 days ago  |\n",
            "|Senior Data Analyst                        |CyberCoders                           |Normal, IL                     |2 weeks ago |\n",
            "|Data Analyst                               |The Cypress Group                     |New York City Metropolitan Area|1 week ago  |\n",
            "|Data Analyst                               |IT Labs                               |United States                  |1 week ago  |\n",
            "|Data Analyst                               |Planet Interactive                    |San Francisco, CA              |1 week ago  |\n",
            "|Data Analyst                               |Korn Ferry                            |Delaware, United States        |4 days ago  |\n",
            "|Data Analysts                              |AutoRoboto                            |Mountain View, CA              |1 week ago  |\n",
            "|Data Analyst                               |Flexton Inc.                          |Cincinnati Metropolitan Area   |3 days ago  |\n",
            "|Data Analyst                               |Korn Ferry                            |Arkansas, United States        |4 days ago  |\n",
            "|Data Analyst                               |Korn Ferry                            |Connecticut, United States     |4 days ago  |\n",
            "|Data Analyst                               |Korn Ferry                            |Idaho, United States           |4 days ago  |\n",
            "|Data Analyst - Epidemiology                |ImageTrend                            |United States                  |2 weeks ago |\n",
            "|Data Analyst                               |Counterpart                           |United States                  |4 days ago  |\n",
            "|Data Analyst - (SQL / Looker - 100% Remote)|Optomi                                |New Jersey, United States      |1 week ago  |\n",
            "|Data Analyst                               |Cloud and Things                      |United States                  |1 week ago  |\n",
            "|Data Analyst                               |Medterra                              |United States                  |1 week ago  |\n",
            "|Data Analyst                               |Dexian                                |Tampa, FL                      |4 days ago  |\n",
            "|Data Analyst                               |Korn Ferry                            |Florida, United States         |1 week ago  |\n",
            "|Data Analyst                               |Tata Consultancy Services             |Irving, TX                     |4 days ago  |\n",
            "|Data Analyst                               |YunoJuno                              |United States                  |1 week ago  |\n",
            "|Data Analyst                               |Bamboo Insurance                      |United States                  |1 week ago  |\n",
            "|Data Analyst                               |Elder Research                        |Arlington, VA                  |6 days ago  |\n",
            "|Data Analyst                               |Korn Ferry                            |Georgia, United States         |1 week ago  |\n",
            "|Data Analyst - Marketing                   |FanDuel                               |New York, NY                   |4 days ago  |\n",
            "|Analyst II, Data and Insights              |Herbalife                             |Torrance, CA                   |3 days ago  |\n",
            "|Data Analyst                               |Korn Ferry                            |Virginia, United States        |1 week ago  |\n",
            "|Junior Data Analyst                        |Sesheng                               |United States                  |4 days ago  |\n",
            "|Data Analyst                               |Akkodis                               |United States                  |2 days ago  |\n",
            "|Business Data Analyst                      |Volt                                  |Sparks, NV                     |2 weeks ago |\n",
            "|Data Analyst                               |Numero Data                           |Herndon, VA                    |2 weeks ago |\n",
            "|Data Analyst                               |MGT                                   |Tinley Park, IL                |1 week ago  |\n",
            "|Data Analyst                               |PRI Global                            |United States                  |4 days ago  |\n",
            "|Senior Data Analyst                        |CyberCoders                           |Normal, IL                     |2 weeks ago |\n",
            "|Data Analyst                               |The Cypress Group                     |New York City Metropolitan Area|1 week ago  |\n",
            "|Data Analyst                               |IT Labs                               |United States                  |1 week ago  |\n",
            "|Data Analyst                               |Planet Interactive                    |San Francisco, CA              |1 week ago  |\n",
            "|Data Analyst                               |Korn Ferry                            |Delaware, United States        |4 days ago  |\n",
            "|Data Analysts                              |AutoRoboto                            |Mountain View, CA              |1 week ago  |\n",
            "|Data Analyst                               |Flexton Inc.                          |Cincinnati Metropolitan Area   |3 days ago  |\n",
            "|Data Analyst                               |Korn Ferry                            |Arkansas, United States        |4 days ago  |\n",
            "|Data Analyst                               |Korn Ferry                            |Connecticut, United States     |4 days ago  |\n",
            "|Data Analyst                               |Korn Ferry                            |Idaho, United States           |4 days ago  |\n",
            "+-------------------------------------------+--------------------------------------+-------------------------------+------------+\n",
            "\n"
          ]
        }
      ]
    },
    {
      "cell_type": "code",
      "source": [
        "r.count()  # In first-run, count was 60; changed value indicates new data has been added"
      ],
      "metadata": {
        "colab": {
          "base_uri": "https://localhost:8080/"
        },
        "id": "bW7vBgJTM7NO",
        "outputId": "a9ccbb0e-eee6-4e8b-9c7b-13b1b1e30703"
      },
      "execution_count": null,
      "outputs": [
        {
          "output_type": "execute_result",
          "data": {
            "text/plain": [
              "120"
            ]
          },
          "metadata": {},
          "execution_count": 10
        }
      ]
    },
    {
      "cell_type": "code",
      "source": [
        "spark.stop() # Stop session to free resources"
      ],
      "metadata": {
        "id": "bowU4B_pImeb"
      },
      "execution_count": null,
      "outputs": []
    },
    {
      "cell_type": "code",
      "source": [
        "!rm -rf /content/spark_linkedin_jobs/  # Erase folder as the demonstration task is completed"
      ],
      "metadata": {
        "id": "S7-IpHdfNfnZ"
      },
      "execution_count": null,
      "outputs": []
    },
    {
      "cell_type": "markdown",
      "source": [
        "# Shell commands for force deleting Colab folders/files"
      ],
      "metadata": {
        "id": "Y4gWy6Z5GyrY"
      }
    },
    {
      "cell_type": "markdown",
      "source": [
        "\n",
        "```\n",
        "!rm -rf /content/folderName/            # -rf for recursive force (delete all folder content & the folder itself)\n",
        "!rm -f /content/fileName.fileFormat     # -f for single file\n",
        "```\n",
        "\n",
        "e.g.\n",
        "```\n",
        "# !rm -rf /content/spark_linkedin_jobs.csv/  \n",
        "\n",
        "# !rm -f /content/pd_linkedin_jobs.csv  \n",
        "```"
      ],
      "metadata": {
        "id": "tl5vR9CMoVvx"
      }
    },
    {
      "cell_type": "markdown",
      "source": [
        "### Exporting the current notebook to '/content/' as HTML file"
      ],
      "metadata": {
        "id": "KFcWnzsFebpT"
      }
    },
    {
      "cell_type": "markdown",
      "source": [
        "```\n",
        "Download the current notebook as .ipynb\n",
        "Re-upload the saved file in '/content/' folder.\n",
        "Run the following code:\n",
        "```"
      ],
      "metadata": {
        "id": "DNlU6jUKelP8"
      }
    },
    {
      "cell_type": "code",
      "source": [
        "# Convert the uploaded .ipynb file to HTML\n",
        "\n",
        "import nbformat\n",
        "from nbconvert import HTMLExporter\n",
        "\n",
        "# File paths\n",
        "notebook_path = \"/content/PySpark_LinkedInJobsFetch.ipynb\"\n",
        "html_path = \"/content/PySpark_LinkedInJobsFetch.html\"\n",
        "\n",
        "# Load the notebook\n",
        "with open(notebook_path) as f:\n",
        "    notebook_content = nbformat.read(f, as_version=4)\n",
        "\n",
        "# Convert to HTML\n",
        "html_exporter = HTMLExporter()\n",
        "body, _ = html_exporter.from_notebook_node(notebook_content)\n",
        "\n",
        "# Save HTML file\n",
        "with open(html_path, \"w\", encoding=\"utf-8\") as f:\n",
        "    f.write(body)\n",
        "\n",
        "# Return the HTML file path for download\n",
        "html_path\n"
      ],
      "metadata": {
        "id": "k1N_lmLvd9EV"
      },
      "execution_count": null,
      "outputs": []
    }
  ]
}